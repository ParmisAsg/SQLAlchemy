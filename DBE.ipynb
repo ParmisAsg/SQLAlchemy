{
 "cells": [
  {
   "cell_type": "code",
   "execution_count": 6,
   "metadata": {},
   "outputs": [],
   "source": [
    "import os\n",
    "import pandas as pd\n",
    "import numpy as np"
   ]
  },
  {
   "cell_type": "code",
   "execution_count": 7,
   "metadata": {},
   "outputs": [],
   "source": [
    "rootdir = os.getcwd()"
   ]
  },
  {
   "cell_type": "code",
   "execution_count": 8,
   "metadata": {},
   "outputs": [],
   "source": [
    "csvs = os.scandir(rootdir)"
   ]
  },
  {
   "cell_type": "code",
   "execution_count": 9,
   "metadata": {},
   "outputs": [],
   "source": [
    "for csv in csvs:\n",
    "    # Only open CSV file extensions\n",
    "    if csv.name.endswith('.csv'):\n",
    "        # Read the CSV file\n",
    "        df = pd.read_csv(csv.path, dtype=object)\n",
    "\n",
    "        # Drop the location column since lat, lon, and elev already exist\n",
    "        if 'location' in df.columns:\n",
    "            df = df.drop(['location'], axis=1).reset_index(drop=True)\n",
    "        \n",
    "        # Use the mean to fill in any NaNs\n",
    "        df.fillna(df.mean(), inplace=True)\n",
    "\n",
    "        # Save the cleaned files with a `clean_` prefix\n",
    "        df.to_csv(os.path.join(rootdir, f\"clean_{csv.name}\"), index=False)"
   ]
  },
  {
   "cell_type": "code",
   "execution_count": 10,
   "metadata": {},
   "outputs": [
    {
     "name": "stdout",
     "output_type": "stream",
     "text": [
      "Climate.ipynb                 hawaii.sqlite\n",
      "DBE.ipynb                     \u001b[31mhawaii_measurements.csv\u001b[m\u001b[m\n",
      "clean_hawaii_measurements.csv \u001b[31mhawaii_stations.csv\u001b[m\u001b[m\n",
      "clean_hawaii_stations.csv\n"
     ]
    }
   ],
   "source": [
    "!ls"
   ]
  },
  {
   "cell_type": "code",
   "execution_count": null,
   "metadata": {},
   "outputs": [],
   "source": []
  }
 ],
 "metadata": {
  "kernelspec": {
   "display_name": "Python 3",
   "language": "python",
   "name": "python3"
  },
  "language_info": {
   "codemirror_mode": {
    "name": "ipython",
    "version": 3
   },
   "file_extension": ".py",
   "mimetype": "text/x-python",
   "name": "python",
   "nbconvert_exporter": "python",
   "pygments_lexer": "ipython3",
   "version": "3.6.7"
  }
 },
 "nbformat": 4,
 "nbformat_minor": 2
}
